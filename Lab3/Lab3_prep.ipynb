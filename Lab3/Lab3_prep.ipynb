{
 "cells": [
  {
   "cell_type": "markdown",
   "metadata": {},
   "source": [
    "# Lab 3 pt 2: NDAWN"
   ]
  },
  {
   "cell_type": "code",
   "execution_count": 2,
   "metadata": {},
   "outputs": [],
   "source": [
    "import os \n",
    "import requests\n",
    "from io import BytesIO, StringIO \n",
    "import datetime \n",
    "import numpy as np \n",
    "import pandas as pd \n",
    "import geopandas as gpd \n",
    "import matplotlib.pyplot as plt \n",
    "import warnings\n",
    "warnings.filterwarnings('ignore')"
   ]
  },
  {
   "cell_type": "markdown",
   "metadata": {},
   "source": [
    "## 1) Gather data"
   ]
  },
  {
   "cell_type": "code",
   "execution_count": 3,
   "metadata": {},
   "outputs": [],
   "source": [
    "\n",
    "# Get a csv from their api\n",
    "\n",
    "# Examples\n",
    "# These get daily max/min/avg temp for all stations for the past month\n",
    "\n",
    "# url = 'https://ndawn.ndsu.nodak.edu/table.csv?station=78&station=111&station=98&station=174&station=142&station=138&station=161&station=9&station=10&station=118&station=56&station=11&station=12&station=58&station=13&station=84&station=55&station=7&station=87&station=14&station=15&station=96&station=16&station=137&station=124&station=143&station=17&station=85&station=140&station=134&station=18&station=136&station=65&station=104&station=99&station=19&station=129&station=20&station=101&station=81&station=21&station=97&station=22&station=75&station=2&station=172&station=139&station=23&station=62&station=86&station=24&station=89&station=126&station=93&station=90&station=25&station=83&station=107&station=156&station=77&station=26&station=70&station=127&station=27&station=132&station=28&station=29&station=30&station=31&station=102&station=32&station=119&station=4&station=80&station=33&station=59&station=105&station=82&station=34&station=72&station=135&station=35&station=76&station=120&station=141&station=109&station=36&station=79&station=71&station=37&station=38&station=39&station=130&station=73&station=40&station=41&station=54&station=69&station=113&station=128&station=42&station=43&station=103&station=116&station=88&station=114&station=3&station=163&station=64&station=115&station=67&station=44&station=133&station=106&station=100&station=121&station=45&station=46&station=61&station=66&station=74&station=60&station=125&station=8&station=47&station=122&station=108&station=5&station=152&station=48&station=68&station=49&station=50&station=91&station=117&station=63&station=150&station=51&station=6&station=52&station=92&station=112&station=131&station=123&station=95&station=53&station=57&station=149&station=148&station=110&variable=mdmxt&variable=mdmnt&variable=mdavt&year=2022&ttype=monthly&quick_pick=1_y&begin_date=2021-09&count=12'\n",
    "# url = 'https://ndawn.ndsu.nodak.edu/table.csv?station=78&station=111&station=98&station=174&station=142&station=138&station=161&station=9&station=10&station=118&station=56&station=11&station=12&station=58&station=13&station=84&station=55&station=7&station=87&station=14&station=15&station=96&station=16&station=137&station=124&station=143&station=17&station=85&station=140&station=134&station=18&station=136&station=65&station=104&station=99&station=19&station=129&station=20&station=101&station=81&station=21&station=97&station=22&station=75&station=2&station=172&station=139&station=23&station=62&station=86&station=24&station=89&station=126&station=93&station=90&station=25&station=83&station=107&station=156&station=77&station=26&station=70&station=127&station=27&station=132&station=28&station=29&station=30&station=31&station=102&station=32&station=119&station=4&station=80&station=33&station=59&station=105&station=82&station=34&station=72&station=135&station=35&station=76&station=120&station=141&station=109&station=36&station=79&station=71&station=37&station=38&station=39&station=130&station=73&station=40&station=41&station=54&station=69&station=113&station=128&station=42&station=43&station=103&station=116&station=88&station=114&station=3&station=163&station=64&station=115&station=67&station=44&station=133&station=106&station=100&station=121&station=45&station=46&station=61&station=66&station=74&station=60&station=125&station=8&station=47&station=122&station=108&station=5&station=152&station=48&station=68&station=49&station=50&station=91&station=117&station=63&station=150&station=51&station=6&station=52&station=92&station=112&station=131&station=123&station=95&station=53&station=57&station=149&station=148&station=110&variable=mdmxt&variable=mdmnt&variable=mdavt&year=2022&ttype=monthly&quick_pick=1_m&begin_date=2021-11&count=1'\n",
    "# url = 'https://ndawn.ndsu.nodak.edu/table.csv?station=78&station=111&station=98&station=174&station=142&station=138&station=161&station=9&station=10&station=118&station=56&station=11&station=12&station=58&station=13&station=84&station=55&station=7&station=87&station=14&station=15&station=96&station=16&station=137&station=124&station=143&station=17&station=85&station=140&station=134&station=18&station=136&station=65&station=104&station=99&station=19&station=129&station=20&station=101&station=81&station=21&station=97&station=22&station=75&station=2&station=172&station=139&station=23&station=62&station=86&station=24&station=89&station=126&station=93&station=90&station=25&station=83&station=107&station=156&station=77&station=26&station=70&station=127&station=27&station=132&station=28&station=29&station=30&station=31&station=102&station=32&station=119&station=4&station=80&station=33&station=59&station=105&station=82&station=34&station=72&station=135&station=35&station=76&station=120&station=141&station=109&station=36&station=79&station=71&station=37&station=38&station=39&station=130&station=73&station=40&station=41&station=54&station=69&station=113&station=128&station=42&station=43&station=103&station=116&station=88&station=114&station=3&station=163&station=64&station=115&station=67&station=44&station=133&station=106&station=100&station=121&station=45&station=46&station=61&station=66&station=74&station=60&station=125&station=8&station=47&station=122&station=108&station=5&station=152&station=48&station=68&station=49&station=50&station=91&station=117&station=63&station=150&station=51&station=6&station=52&station=92&station=112&station=131&station=123&station=95&station=53&station=57&station=149&station=148&station=110&variable=ddmxt&variable=ddmnt&variable=ddavt&ttype=daily&quick_pick=30_d'\n",
    "\n",
    "# Building those urls\n",
    "base_url = 'https://ndawn.ndsu.nodak.edu/table.csv?'\n",
    "\n",
    "# Get station string\n",
    "station_numbers = [ 78, 111,  98, 174, 142, 138, 161, 9,  10, 118,  56,  11,  12,\n",
    "                    58,  13,  84,  55,   7,  87,  14,  15,  96,  16, 137, 124, 143,\n",
    "                    17,  85, 140, 134,  18, 136,  65, 104,  99,  19, 129,  20, 101,\n",
    "                    81,  21,  97,  22,  75,   2, 172, 139,  23,  62,  86,  24,  89,\n",
    "                   126,  93,  90,  25,  83, 107, 156,  77,  26,  70, 127,  27, 132,\n",
    "                    28,  29,  30,  31, 102,  32, 119,   4,  80,  33,  59, 105,  82,\n",
    "                    34,  72, 135,  35,  76, 120, 141, 109,  36,  79,  71,  37,  38,\n",
    "                    39, 130,  73,  40,  41,  54,  69, 113, 128,  42,  43, 103, 116,\n",
    "                    88, 114,   3, 163,  64, 115,  67,  44, 133, 106, 100, 121,  45,\n",
    "                    46,  61,  66,  74,  60, 125,   8,  47, 122, 108,   5, 152,  48,\n",
    "                    68,  49,  50,  91, 117,  63, 150,  51,   6,  52,  92, 112, 131,\n",
    "                   123,  95,  53,  57, 149, 148, 110]\n",
    "\n",
    "station_strings = []\n",
    "\n",
    "for station_number in station_numbers:\n",
    "    station_strings += ['station=' + str(station_number)]\n",
    "\n",
    "station_string = '&'.join(station_strings)\n",
    "\n",
    "fields = ['variable=ddmxt',\n",
    "     'variable=ddmnt',\n",
    "     'variable=ddavt',\n",
    "     'ttype=daily',\n",
    "     'quick_pick=30_d']\n",
    "\n",
    "fields_string = '&'.join(fields)\n",
    "\n",
    "request_url = base_url + '&'.join([station_string,\n",
    "                                   fields_string])\n",
    "\n",
    "response = requests.request('GET', request_url)"
   ]
  },
  {
   "cell_type": "code",
   "execution_count": 4,
   "metadata": {},
   "outputs": [],
   "source": [
    "\n",
    "# Find where CSV Starts\n",
    "start = response.text.find('Station Name')\n",
    "\n",
    "# Decoding string\n",
    "decoding = StringIO(response.text[start:])\n",
    "\n",
    "# Read into Pandas\n",
    "temps = pd.read_csv(decoding).iloc[1:,:] # Skipping first entry, it just gives the units of each column\n",
    "\n",
    "# Add spatial component with GeoPandas\n",
    "temps_gdf = gpd.GeoDataFrame(temps,\n",
    "                             geometry = gpd.points_from_xy(x = temps.Longitude, y = temps.Latitude),\n",
    "                             crs = 'EPSG:4326')"
   ]
  },
  {
   "cell_type": "code",
   "execution_count": 8,
   "metadata": {},
   "outputs": [],
   "source": [
    "# Get relevant columns for csv\n",
    "cols = temps_gdf.columns[:-1] # Want all columns besides geometry\n",
    "\n",
    "# Save as csv\n",
    "temps_gdf[cols].to_csv('temps_raw.csv', index = False)"
   ]
  },
  {
   "cell_type": "markdown",
   "metadata": {},
   "source": [
    "## 2) Process Data"
   ]
  },
  {
   "cell_type": "code",
   "execution_count": 9,
   "metadata": {},
   "outputs": [
    {
     "name": "stdout",
     "output_type": "stream",
     "text": [
      "<class 'pandas.core.frame.DataFrame'>\n",
      "RangeIndex: 4230 entries, 0 to 4229\n",
      "Data columns (total 13 columns):\n",
      " #   Column         Non-Null Count  Dtype  \n",
      "---  ------         --------------  -----  \n",
      " 0   Station Name   4230 non-null   object \n",
      " 1   Latitude       4230 non-null   float64\n",
      " 2   Longitude      4230 non-null   float64\n",
      " 3   Elevation      4230 non-null   int64  \n",
      " 4   Year           4230 non-null   float64\n",
      " 5   Month          4230 non-null   float64\n",
      " 6   Day            4230 non-null   float64\n",
      " 7   Max Temp       4230 non-null   float64\n",
      " 8   Max Temp Flag  4 non-null      object \n",
      " 9   Min Temp       4230 non-null   float64\n",
      " 10  Min Temp Flag  11 non-null     object \n",
      " 11  Avg Temp       4230 non-null   float64\n",
      " 12  Avg Temp Flag  11 non-null     object \n",
      "dtypes: float64(8), int64(1), object(4)\n",
      "memory usage: 429.7+ KB\n"
     ]
    }
   ],
   "source": [
    "# Load data\n",
    "temps = pd.read_csv('temps_raw.csv')\n",
    "\n",
    "temps.info()"
   ]
  },
  {
   "cell_type": "code",
   "execution_count": 10,
   "metadata": {},
   "outputs": [
    {
     "name": "stdout",
     "output_type": "stream",
     "text": [
      "[nan 'E']\n",
      "[nan 'E']\n",
      "[nan 'E']\n"
     ]
    }
   ],
   "source": [
    "# Check the flag columns for unique values\n",
    "print(temps['Max Temp Flag'].unique())\n",
    "print(temps['Min Temp Flag'].unique())\n",
    "print(temps['Avg Temp Flag'].unique())"
   ]
  },
  {
   "cell_type": "code",
   "execution_count": 11,
   "metadata": {},
   "outputs": [
    {
     "name": "stdout",
     "output_type": "stream",
     "text": [
      "<class 'pandas.core.frame.DataFrame'>\n",
      "Index: 11 entries, 285 to 3255\n",
      "Data columns (total 13 columns):\n",
      " #   Column         Non-Null Count  Dtype  \n",
      "---  ------         --------------  -----  \n",
      " 0   Station Name   11 non-null     object \n",
      " 1   Latitude       11 non-null     float64\n",
      " 2   Longitude      11 non-null     float64\n",
      " 3   Elevation      11 non-null     int64  \n",
      " 4   Year           11 non-null     float64\n",
      " 5   Month          11 non-null     float64\n",
      " 6   Day            11 non-null     float64\n",
      " 7   Max Temp       11 non-null     float64\n",
      " 8   Max Temp Flag  4 non-null      object \n",
      " 9   Min Temp       11 non-null     float64\n",
      " 10  Min Temp Flag  11 non-null     object \n",
      " 11  Avg Temp       11 non-null     float64\n",
      " 12  Avg Temp Flag  11 non-null     object \n",
      "dtypes: float64(8), int64(1), object(4)\n",
      "memory usage: 1.2+ KB\n"
     ]
    }
   ],
   "source": [
    "error_data = temps[(temps['Avg Temp Flag'] == 'E') |\n",
    "                       (temps['Max Temp Flag'] == 'E') | \n",
    "                      (temps['Min Temp Flag'] == 'E')]\n",
    "\n",
    "error_data.info()"
   ]
  },
  {
   "cell_type": "code",
   "execution_count": 12,
   "metadata": {},
   "outputs": [
    {
     "data": {
      "text/html": [
       "<div>\n",
       "<style scoped>\n",
       "    .dataframe tbody tr th:only-of-type {\n",
       "        vertical-align: middle;\n",
       "    }\n",
       "\n",
       "    .dataframe tbody tr th {\n",
       "        vertical-align: top;\n",
       "    }\n",
       "\n",
       "    .dataframe thead th {\n",
       "        text-align: right;\n",
       "    }\n",
       "</style>\n",
       "<table border=\"1\" class=\"dataframe\">\n",
       "  <thead>\n",
       "    <tr style=\"text-align: right;\">\n",
       "      <th></th>\n",
       "      <th>Year</th>\n",
       "      <th>Month</th>\n",
       "      <th>Day</th>\n",
       "      <th>Station Name</th>\n",
       "    </tr>\n",
       "  </thead>\n",
       "  <tbody>\n",
       "    <tr>\n",
       "      <th>285</th>\n",
       "      <td>2023.0</td>\n",
       "      <td>11.0</td>\n",
       "      <td>21.0</td>\n",
       "      <td>Becker</td>\n",
       "    </tr>\n",
       "    <tr>\n",
       "      <th>664</th>\n",
       "      <td>2023.0</td>\n",
       "      <td>11.0</td>\n",
       "      <td>10.0</td>\n",
       "      <td>Clarissa</td>\n",
       "    </tr>\n",
       "    <tr>\n",
       "      <th>955</th>\n",
       "      <td>2023.0</td>\n",
       "      <td>12.0</td>\n",
       "      <td>1.0</td>\n",
       "      <td>Dagmar</td>\n",
       "    </tr>\n",
       "    <tr>\n",
       "      <th>956</th>\n",
       "      <td>2023.0</td>\n",
       "      <td>12.0</td>\n",
       "      <td>2.0</td>\n",
       "      <td>Dagmar</td>\n",
       "    </tr>\n",
       "    <tr>\n",
       "      <th>957</th>\n",
       "      <td>2023.0</td>\n",
       "      <td>12.0</td>\n",
       "      <td>3.0</td>\n",
       "      <td>Dagmar</td>\n",
       "    </tr>\n",
       "    <tr>\n",
       "      <th>958</th>\n",
       "      <td>2023.0</td>\n",
       "      <td>12.0</td>\n",
       "      <td>4.0</td>\n",
       "      <td>Dagmar</td>\n",
       "    </tr>\n",
       "    <tr>\n",
       "      <th>959</th>\n",
       "      <td>2023.0</td>\n",
       "      <td>12.0</td>\n",
       "      <td>5.0</td>\n",
       "      <td>Dagmar</td>\n",
       "    </tr>\n",
       "    <tr>\n",
       "      <th>2355</th>\n",
       "      <td>2023.0</td>\n",
       "      <td>11.0</td>\n",
       "      <td>21.0</td>\n",
       "      <td>Little Falls</td>\n",
       "    </tr>\n",
       "    <tr>\n",
       "      <th>3074</th>\n",
       "      <td>2023.0</td>\n",
       "      <td>11.0</td>\n",
       "      <td>20.0</td>\n",
       "      <td>Pine Point</td>\n",
       "    </tr>\n",
       "    <tr>\n",
       "      <th>3087</th>\n",
       "      <td>2023.0</td>\n",
       "      <td>12.0</td>\n",
       "      <td>3.0</td>\n",
       "      <td>Pine Point</td>\n",
       "    </tr>\n",
       "    <tr>\n",
       "      <th>3255</th>\n",
       "      <td>2023.0</td>\n",
       "      <td>11.0</td>\n",
       "      <td>21.0</td>\n",
       "      <td>Rice</td>\n",
       "    </tr>\n",
       "  </tbody>\n",
       "</table>\n",
       "</div>"
      ],
      "text/plain": [
       "        Year  Month   Day  Station Name\n",
       "285   2023.0   11.0  21.0        Becker\n",
       "664   2023.0   11.0  10.0      Clarissa\n",
       "955   2023.0   12.0   1.0        Dagmar\n",
       "956   2023.0   12.0   2.0        Dagmar\n",
       "957   2023.0   12.0   3.0        Dagmar\n",
       "958   2023.0   12.0   4.0        Dagmar\n",
       "959   2023.0   12.0   5.0        Dagmar\n",
       "2355  2023.0   11.0  21.0  Little Falls\n",
       "3074  2023.0   11.0  20.0    Pine Point\n",
       "3087  2023.0   12.0   3.0    Pine Point\n",
       "3255  2023.0   11.0  21.0          Rice"
      ]
     },
     "execution_count": 12,
     "metadata": {},
     "output_type": "execute_result"
    }
   ],
   "source": [
    "error_data[['Year', 'Month', 'Day', 'Station Name']]"
   ]
  },
  {
   "cell_type": "code",
   "execution_count": 14,
   "metadata": {},
   "outputs": [],
   "source": [
    "# Remove error data\n",
    "clean_data = temps[~(temps['Avg Temp Flag'] == 'E') &\n",
    "                       ~(temps['Max Temp Flag'] == 'E') & \n",
    "                       ~(temps['Min Temp Flag'] == 'E')]"
   ]
  },
  {
   "cell_type": "code",
   "execution_count": 15,
   "metadata": {},
   "outputs": [
    {
     "data": {
      "text/html": [
       "<div>\n",
       "<style scoped>\n",
       "    .dataframe tbody tr th:only-of-type {\n",
       "        vertical-align: middle;\n",
       "    }\n",
       "\n",
       "    .dataframe tbody tr th {\n",
       "        vertical-align: top;\n",
       "    }\n",
       "\n",
       "    .dataframe thead th {\n",
       "        text-align: right;\n",
       "    }\n",
       "</style>\n",
       "<table border=\"1\" class=\"dataframe\">\n",
       "  <thead>\n",
       "    <tr style=\"text-align: right;\">\n",
       "      <th></th>\n",
       "      <th>Station Name</th>\n",
       "      <th>Latitude</th>\n",
       "      <th>Longitude</th>\n",
       "      <th>Elevation</th>\n",
       "      <th>Max Temp</th>\n",
       "      <th>Min Temp</th>\n",
       "      <th>Avg Temp</th>\n",
       "    </tr>\n",
       "  </thead>\n",
       "  <tbody>\n",
       "    <tr>\n",
       "      <th>0</th>\n",
       "      <td>Ada</td>\n",
       "      <td>47.32119</td>\n",
       "      <td>-96.51406</td>\n",
       "      <td>910</td>\n",
       "      <td>38.767200</td>\n",
       "      <td>19.972867</td>\n",
       "      <td>29.370267</td>\n",
       "    </tr>\n",
       "    <tr>\n",
       "      <th>1</th>\n",
       "      <td>Adams</td>\n",
       "      <td>48.49988</td>\n",
       "      <td>-98.07588</td>\n",
       "      <td>1580</td>\n",
       "      <td>36.160600</td>\n",
       "      <td>18.632700</td>\n",
       "      <td>27.396900</td>\n",
       "    </tr>\n",
       "    <tr>\n",
       "      <th>2</th>\n",
       "      <td>Alamo</td>\n",
       "      <td>48.54652</td>\n",
       "      <td>-103.47186</td>\n",
       "      <td>2157</td>\n",
       "      <td>40.677500</td>\n",
       "      <td>17.218900</td>\n",
       "      <td>28.948467</td>\n",
       "    </tr>\n",
       "    <tr>\n",
       "      <th>3</th>\n",
       "      <td>Alvarado</td>\n",
       "      <td>48.24594</td>\n",
       "      <td>-97.02153</td>\n",
       "      <td>809</td>\n",
       "      <td>38.007633</td>\n",
       "      <td>21.248033</td>\n",
       "      <td>29.628067</td>\n",
       "    </tr>\n",
       "    <tr>\n",
       "      <th>4</th>\n",
       "      <td>Amidon</td>\n",
       "      <td>46.48844</td>\n",
       "      <td>-103.31629</td>\n",
       "      <td>2882</td>\n",
       "      <td>45.298433</td>\n",
       "      <td>19.610333</td>\n",
       "      <td>32.454700</td>\n",
       "    </tr>\n",
       "  </tbody>\n",
       "</table>\n",
       "</div>"
      ],
      "text/plain": [
       "  Station Name  Latitude  Longitude  Elevation   Max Temp   Min Temp  \\\n",
       "0          Ada  47.32119  -96.51406        910  38.767200  19.972867   \n",
       "1        Adams  48.49988  -98.07588       1580  36.160600  18.632700   \n",
       "2        Alamo  48.54652 -103.47186       2157  40.677500  17.218900   \n",
       "3     Alvarado  48.24594  -97.02153        809  38.007633  21.248033   \n",
       "4       Amidon  46.48844 -103.31629       2882  45.298433  19.610333   \n",
       "\n",
       "    Avg Temp  \n",
       "0  29.370267  \n",
       "1  27.396900  \n",
       "2  28.948467  \n",
       "3  29.628067  \n",
       "4  32.454700  "
      ]
     },
     "execution_count": 15,
     "metadata": {},
     "output_type": "execute_result"
    }
   ],
   "source": [
    "# Grouping by station\n",
    "\n",
    "# Columns for stats\n",
    "stat_cols = ['Max Temp', 'Min Temp', 'Avg Temp']\n",
    "# Columns for station information\n",
    "station_cols = ['Station Name', 'Latitude', 'Longitude', 'Elevation']\n",
    "stats_data = clean_data[station_cols + stat_cols]\n",
    "\n",
    "# Group by Station Name\n",
    "mean_data = stats_data.groupby(station_cols).mean().reset_index()\n",
    "\n",
    "# Preview of df\n",
    "mean_data.head()"
   ]
  },
  {
   "cell_type": "code",
   "execution_count": 16,
   "metadata": {},
   "outputs": [],
   "source": [
    "# Transform into UTM coords (NAD83, utm zone 14N)\n",
    "\n",
    "# Spatialize df\n",
    "temps_gdf = gpd.GeoDataFrame(mean_data,\n",
    "                             geometry = gpd.points_from_xy(x = mean_data.Longitude,\n",
    "                                                           y = mean_data.Latitude),\n",
    "                             crs = 'EPSG:4326')\n",
    "\n",
    "# Transform\n",
    "\n",
    "temps_utm = temps_gdf.to_crs('EPSG:26914')"
   ]
  },
  {
   "cell_type": "code",
   "execution_count": 17,
   "metadata": {},
   "outputs": [
    {
     "data": {
      "image/png": "[encoded data removed]",
      "text/plain": [
       "<Figure size 1600x800 with 1 Axes>"
      ]
     },
     "metadata": {},
     "output_type": "display_data"
    }
   ],
   "source": [
    "# Verification \n",
    "\n",
    "f, ax = plt.subplots(1,1,figsize = (16,8))\n",
    "\n",
    "temps_gdf.plot('Min Temp', cmap = 'cool',k=5,\n",
    "                       scheme = 'quantiles', \n",
    "               legend = True,\n",
    "               ax = ax)\n",
    "\n",
    "plt.show()\n"
   ]
  },
  {
   "cell_type": "code",
   "execution_count": 18,
   "metadata": {},
   "outputs": [],
   "source": [
    "# Save as geojson\n",
    "\n",
    "# Add UTM column\n",
    "temps_utm['X'] = temps_utm.geometry.x\n",
    "temps_utm['Y'] = temps_utm.geometry.y\n",
    "\n",
    "# Get relevant columns for csv\n",
    "\n",
    "cols = ['Station Name', 'Elevation', 'Max Temp', 'Min Temp',\n",
    "       'Avg Temp', 'X', 'Y', 'geometry']\n",
    "\n",
    "temps_utm[cols].to_file('temps.geojson')"
   ]
  },
  {
   "cell_type": "code",
   "execution_count": 19,
   "metadata": {},
   "outputs": [],
   "source": [
    "# Save as CSV\n",
    "\n",
    "# Get relevant columns for csv\n",
    "cols = ['Station Name', 'Elevation', 'Max Temp', 'Min Temp',\n",
    "       'Avg Temp', 'X', 'Y']\n",
    "\n",
    "# Save as csv\n",
    "temps_utm[cols].to_csv('temps.csv')"
   ]
  }
 ],
 "metadata": {
  "kernelspec": {
   "display_name": "Python 3 (ipykernel)",
   "language": "python",
   "name": "python3"
  },
  "language_info": {
   "codemirror_mode": {
    "name": "ipython",
    "version": 3
   },
   "file_extension": ".py",
   "mimetype": "text/x-python",
   "name": "python",
   "nbconvert_exporter": "python",
   "pygments_lexer": "ipython3",
   "version": "3.10.12"
  }
 },
 "nbformat": 4,
 "nbformat_minor": 4
}
