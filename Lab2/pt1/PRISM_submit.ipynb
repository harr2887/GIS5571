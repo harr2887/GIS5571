{
 "cells": [
  {
   "cell_type": "markdown",
   "metadata": {},
   "source": [
    "## Lab 2 pt 1 - PRISM\n",
    "\n",
    "#### Author: Jacob Harris\n",
    "\n",
    "The goal of this notebook is to:\n",
    "\n",
    "1. Download the annual 30-Year Normals .bil files for precipitation from PRISM\n",
    "2. Convert the data into a spacetime cube and export it to disk\n",
    "3. Export an animation of the timeseries\n",
    "\n",
    "**Disclaimer**: Some parts of this code were created using ChatGPT. I also looked at documentation from Esri for certain ArcPy functions."
   ]
  },
  {
   "cell_type": "code",
   "execution_count": 27,
   "metadata": {},
   "outputs": [],
   "source": [
    "import requests\n",
    "import zipfile\n",
    "import os\n",
    "import arcpy"
   ]
  },
  {
   "cell_type": "code",
   "execution_count": 28,
   "metadata": {},
   "outputs": [],
   "source": [
    "# Send HTTP GET request to get Web API data\n",
    "response = requests.get(r'https://prism.oregonstate.edu/fetchData.php?type=all_bil&kind=normals&spatial=4km&elem=ppt&temporal=annual')\n",
    "zip_path = r'C:\\Users\\jake1\\OneDrive\\Documents\\ArcGIS\\Projects\\PRISM\\30yearppt.zip'\n",
    "if response.status_code == 200:\n",
    "    with open (zip_path, 'wb') as file:\n",
    "        file.write(response.content)\n",
    "        \n",
    "with zipfile.ZipFile(zip_path, 'r') as zip_ref:\n",
    "    zip_ref.extractall (r'C:\\Users\\jake1\\OneDrive\\Documents\\ArcGIS\\Projects\\PRISM\\BIL')"
   ]
  },
  {
   "cell_type": "code",
   "execution_count": 29,
   "metadata": {},
   "outputs": [
    {
     "name": "stdout",
     "output_type": "stream",
     "text": [
      "Deleted: PRISM_ppt_30yr_normal_4kmM4_annual_bil.bil\n",
      "Deleted: PRISM_ppt_30yr_normal_4kmM4_annual_bil.bil.aux.xml\n",
      "Deleted: PRISM_ppt_30yr_normal_4kmM4_annual_bil.hdr\n",
      "Deleted: PRISM_ppt_30yr_normal_4kmM4_annual_bil.info.txt\n",
      "Deleted: PRISM_ppt_30yr_normal_4kmM4_annual_bil.prj\n",
      "Deleted: PRISM_ppt_30yr_normal_4kmM4_annual_bil.stx\n",
      "Deleted: PRISM_ppt_30yr_normal_4kmM4_annual_bil.xml\n"
     ]
    }
   ],
   "source": [
    "# Set file paths\n",
    "base_dir = r'C:\\Users\\jake1\\OneDrive\\Documents\\ArcGIS\\Projects\\PRISM'\n",
    "folder_path = base_dir + '\\BIL'\n",
    "file_list = os.listdir(folder_path)\n",
    "\n",
    "for filename in file_list:\n",
    "    if \"annual\" in filename.lower():  # Convert to lowercase for case-insensitive matching\n",
    "        file_path = os.path.join(folder_path, filename)\n",
    "        try:\n",
    "            os.remove(file_path)\n",
    "            print(f\"Deleted: {filename}\")\n",
    "        except Exception as e:\n",
    "            print(f\"Error deleting {filename}: {e}\")"
   ]
  },
  {
   "cell_type": "code",
   "execution_count": 36,
   "metadata": {
    "scrolled": true
   },
   "outputs": [
    {
     "name": "stdout",
     "output_type": "stream",
     "text": [
      "Files successfully converted to TIFF and stored in .tifs folder\n"
     ]
    }
   ],
   "source": [
    "# Set file paths\n",
    "bils_folder = base_dir + '\\BIL'\n",
    "tifs_folder = base_dir + '\\\\tifs'\n",
    "\n",
    "os.makedirs(tifs_folder) # Create folder for future TIFF files\n",
    "\n",
    "bil_files = [f for f in os.listdir(bils_folder) if f.lower().endswith('.bil')]\n",
    "\n",
    "# Iterate through all .bil and .tif files \n",
    "for bil_file in bil_files:\n",
    "    bil_path = os.path.join(bils_folder, bil_file)\n",
    "    tif_file = os.path.splitext(bil_file)[0] + '.tif'\n",
    "    tif_path = os.path.join(tifs_folder, tif_file)\n",
    "    if not os.path.exists(tif_path):\n",
    "        arcpy.conversion.RasterToOtherFormat(bil_path, tifs_folder, \"TIFF\") # Convert to TIFF\n",
    "print('Files successfully converted to TIFF and stored in .tifs folder')"
   ]
  },
  {
   "cell_type": "code",
   "execution_count": 38,
   "metadata": {},
   "outputs": [
    {
     "data": {
      "text/html": [
       "<div class='gpresult'><h2>Messages</h2><div id='messages' data-messages='[\"Start Time: Friday, November 3, 2023 12:44:14 AM\",\"Succeeded at Friday, November 3, 2023 12:44:17 AM (Elapsed Time: 3.08 seconds)\"]' data-show='true'><div id = 'default' /></div></div>"
      ],
      "text/plain": [
       "<Result 'C:\\\\Users\\\\jake1\\\\OneDrive\\\\Documents\\\\ArcGIS\\\\Projects\\\\PRISM\\\\PRISM.gdb\\\\Normals_Precipiation'>"
      ]
     },
     "execution_count": 38,
     "metadata": {},
     "output_type": "execute_result"
    }
   ],
   "source": [
    "# Shortcut for workspace directory\n",
    "gdb_dir = base_dir + '\\PRISM.gdb'\n",
    "# Set coordinate system to NAD 1983\n",
    "coordinate_system = arcpy.SpatialReference(4269)\n",
    "in_workspace = gdb_dir\n",
    "in_mosaicdataset_name = 'Normals_Precipiation'\n",
    "# Create mosaic dataset\n",
    "arcpy.management.CreateMosaicDataset(in_workspace, in_mosaicdataset_name, coordinate_system)"
   ]
  },
  {
   "cell_type": "code",
   "execution_count": 39,
   "metadata": {},
   "outputs": [
    {
     "data": {
      "text/html": [
       "<div class='gpresult'><h2>Messages</h2><div id='messages' data-messages='[\"Start Time: Friday, November 3, 2023 12:45:10 AM\",\"2023-11-03T00:45:11.452: Loading raster datasets\",\"2023-11-03T00:45:11.496: Completed crawling 12 data source items. Added 12 mosaic dataset items.\",\"2023-11-03T00:45:11.499: Synchronizing crawled data source items\",\"2023-11-03T00:45:11.515: Synchronizing items associated with raster type instance &#39;Raster Dataset&#39; [ID: 1].\",\"2023-11-03T00:45:11.683: Completed synchronization: 12 items selected, 12 items synchronized.\",\"2023-11-03T00:45:11.778: Computing cell size levels\",\"2023-11-03T00:45:11.778: Computing unique cell size values\",\"2023-11-03T00:45:11.848: Computing maximum cell size values\",\"2023-11-03T00:45:11.853: Computing minimum cell size values\",\"2023-11-03T00:45:11.858: Updating visibility values of selected items\",\"2023-11-03T00:45:11.876: Computing maximum cell size for mosaic dataset\",\"2023-11-03T00:45:11.886: Completed computing cell size ranges.\",\"2023-11-03T00:45:11.949: Completed building boundary.\",\"Succeeded at Friday, November 3, 2023 12:45:12 AM (Elapsed Time: 2.13 seconds)\"]' data-show='true'><div id = 'default' /></div></div>"
      ],
      "text/plain": [
       "<Result 'Normals_Precipiation'>"
      ]
     },
     "execution_count": 39,
     "metadata": {},
     "output_type": "execute_result"
    }
   ],
   "source": [
    "# Add rasters to the mosaic dataset\n",
    "in_mosaic_dataset = 'Normals_Precipiation'\n",
    "input_path = tifs_folder\n",
    "raster_type = 'Raster Dataset'\n",
    "arcpy.management.AddRastersToMosaicDataset(in_mosaic_dataset, raster_type, input_path)"
   ]
  },
  {
   "cell_type": "code",
   "execution_count": 40,
   "metadata": {},
   "outputs": [
    {
     "data": {
      "text/html": [
       "<div class='gpresult'><h2>Messages</h2><div id='messages' data-messages='[\"Start Time: Friday, November 3, 2023 12:57:23 AM\",\"Adding Variable to AMD_Normals_Precipiation_CAT...\",\"Succeeded at Friday, November 3, 2023 12:57:24 AM (Elapsed Time: 1.60 seconds)\"]' data-show='true'><div id = 'default' /></div></div>"
      ],
      "text/plain": [
       "<Result 'Normals_Precipiation'>"
      ]
     },
     "execution_count": 40,
     "metadata": {},
     "output_type": "execute_result"
    }
   ],
   "source": [
    "# Updating the values in 'Variable' to \"ppt\" \n",
    "field_name = 'Variable'\n",
    "expression = '\"ppt\"'\n",
    "# Perform field calculation\n",
    "arcpy.CalculateField_management(in_mosaic_dataset, field_name, expression, \"PYTHON3\")"
   ]
  },
  {
   "cell_type": "code",
   "execution_count": 41,
   "metadata": {},
   "outputs": [
    {
     "data": {
      "text/html": [
       "<div class='gpresult'><h2>Messages</h2><div id='messages' data-messages='[\"Start Time: Friday, November 3, 2023 12:57:29 AM\",\"Adding Timestamp to AMD_Normals_Precipiation_CAT...\",\"Succeeded at Friday, November 3, 2023 12:57:31 AM (Elapsed Time: 1.62 seconds)\"]' data-show='true'><div id = 'default' /></div></div>"
      ],
      "text/plain": [
       "<Result 'Normals_Precipiation'>"
      ]
     },
     "execution_count": 41,
     "metadata": {},
     "output_type": "execute_result"
    }
   ],
   "source": [
    "# Setting up time stamp\n",
    "field_name = 'Timestamp'\n",
    "type_field = 'DATE'\n",
    "expression = 'DateAdd(Date( 1990, 12, 1), $feature.OBJECTID - 1, \"month\")'\n",
    "# Perform field calculation: calculate date based on an offset\n",
    "arcpy.management.CalculateField(in_mosaic_dataset, field_name, expression, \"ARCADE\", field_type = type_field)"
   ]
  },
  {
   "cell_type": "code",
   "execution_count": 42,
   "metadata": {},
   "outputs": [
    {
     "data": {
      "text/html": [
       "<div class='gpresult'><h2>Messages</h2><div id='messages' data-messages='[\"Start Time: Friday, November 3, 2023 12:57:37 AM\",\"Succeeded at Friday, November 3, 2023 12:57:38 AM (Elapsed Time: 1.87 seconds)\"]' data-show='true'><div id = 'default' /></div></div>"
      ],
      "text/plain": [
       "<Result 'Normals_Precipiation'>"
      ]
     },
     "execution_count": 42,
     "metadata": {},
     "output_type": "execute_result"
    }
   ],
   "source": [
    "# Create multidimensional information for the mosaic database\n",
    "variable_field = 'Variable'\n",
    "timestamp_field = 'Timestamp'\n",
    "arcpy.md.BuildMultidimensionalInfo(in_mosaic_dataset, variable_field, timestamp_field)"
   ]
  },
  {
   "cell_type": "code",
   "execution_count": 43,
   "metadata": {
    "collapsed": true
   },
   "outputs": [
    {
     "data": {
      "text/html": [
       "<div class='gpresult'><h2>Messages</h2><div id='messages' data-messages='[\"Start Time: Friday, November 3, 2023 12:57:59 AM\",\"Succeeded at Friday, November 3, 2023 12:58:00 AM (Elapsed Time: 1.80 seconds)\"]' data-show='true'><div id = 'default' /></div></div>"
      ],
      "text/plain": [
       "<Result 'Normals_Precipitation_MultiDim_Layer'>"
      ]
     },
     "execution_count": 43,
     "metadata": {},
     "output_type": "execute_result"
    }
   ],
   "source": [
    "# Create multidimensional raster layer\n",
    "in_multidimensional_raster = in_mosaic_dataset\n",
    "out_multidimensional_raster_layer = 'Normals_Precipitation_MultiDim_Layer'\n",
    "arcpy.md.MakeMultidimensionalRasterLayer(in_multidimensional_raster, out_multidimensional_raster_layer)"
   ]
  },
  {
   "cell_type": "code",
   "execution_count": 46,
   "metadata": {},
   "outputs": [
    {
     "data": {
      "text/html": [
       "<div class='gpresult'><h2>Messages</h2><div id='messages' data-messages='[\"Start Time: Friday, November 3, 2023 8:50:51 AM\",\"WARNING 110290: This tool requires projected data to accurately measure distances.  The Input Multidimensional Raster Layer will be projected to the WGS 1984 World Equidistant Cylindrical projection (WKID 4087).\",\"WARNING 110442: The Input Multidimensional Raster Layer contains irregular or missing time intervals.\",\"WARNING 110013: The default Time Step Interval is 28 days.\",\"WARNING 110067: Your spatial reference is not compatible with CF Conventions.  You may experience difficulties using the resulting space-time cube with other NetCDF tools and software.\",[{\"element\":\"table\",\"data\":[[{\"data\":\"Input feature time extent\",\"prop\":{\"rowspan\":2}},\"1991-01-01 06:00:00\"],[{\"data\":\"to 1991-12-01 06:00:00\",\"prop\":{\"text-align\":\"right\"}}],[\"\",\"\"],[\"Number of time steps\",\"12\"],[\"Time step interval\",\"28 days\"],[\"Time step alignment\",\"End\"],[\"\",\"\"],[\"First time step temporal bias\",\"100.00%\"],[{\"data\":\"First time step interval\",\"prop\":{\"rowspan\":4}},\"after\"],[{\"data\":\"1990-12-04 06:00:00\",\"prop\":{\"text-align\":\"right\"}}],[{\"data\":\"to on or before\",\"prop\":{\"text-align\":\"right\"}}],[{\"data\":\"1991-01-01 06:00:00\",\"prop\":{\"text-align\":\"right\"}}],[\"\",\"\"],[\"Last time step temporal bias\",\"0.00%\"],[{\"data\":\"Last time step interval\",\"prop\":{\"rowspan\":4}},\"after\"],[{\"data\":\"1991-11-01 05:00:00\",\"prop\":{\"text-align\":\"right\"}}],[{\"data\":\"to on or before\",\"prop\":{\"text-align\":\"right\"}}],[{\"data\":\"1991-12-01 06:00:00\",\"prop\":{\"text-align\":\"right\"}}],[\"\",\"\"],[\"Coordinate System\",\"WGS 1984 World Equidistant Cylindrical\"],[\"Cube extent across space\",\"(coordinates in meters)\"],[\"Min X\",\"-13894065.6611\"],[\"Min Y\",\"2708362.4448\"],[\"Max X\",\"-7451448.3421\"],[\"Max Y\",\"5478284.6852\"]],\"elementProps\":{\"striped\":\"true\",\"noHeader\":true,\"title\":\"Space Time Cube Characteristics\",\"0\":{\"align\":\"left\",\"pad\":\"0px\",\"wrap\":true},\"1\":{\"align\":\"right\",\"pad\":\"0px\",\"wrap\":true}}}],[{\"element\":\"table\",\"data\":[[\"Locations\",\"481631\"],[\"Total observations\",\"5779572\"]],\"elementProps\":{\"striped\":\"true\",\"noHeader\":true,\"0\":{\"align\":\"left\",\"pad\":\"0px\",\"wrap\":true},\"1\":{\"align\":\"right\",\"pad\":\"0px\",\"wrap\":true}}}],[{\"element\":\"table\",\"data\":[[\"Trend direction\",\"Not Significant\"],[\"Trend statistic\",\"0.0000\"],[\"Trend p-value\",\"1.0000\"]],\"elementProps\":{\"striped\":\"true\",\"noHeader\":true,\"title\":\"Overall Data Trend - PPT_NONE_ZEROS\",\"0\":{\"align\":\"left\",\"pad\":\"0px\",\"wrap\":true},\"1\":{\"align\":\"right\",\"pad\":\"0px\",\"wrap\":true}}}],\"Succeeded at Friday, November 3, 2023 9:00:55 AM (Elapsed Time: 10 minutes 4 seconds)\"]' data-show='true'><div id = 'default' /></div></div>"
      ],
      "text/plain": [
       "<Result 'C:\\\\Users\\\\jake1\\\\OneDrive\\\\Documents\\\\ArcGIS\\\\Projects\\\\PRISM\\\\ppt.nc'>"
      ]
     },
     "execution_count": 46,
     "metadata": {},
     "output_type": "execute_result"
    }
   ],
   "source": [
    "# Create spacetime cube\n",
    "output_cube = base_dir + '\\normals_cube.nc'\n",
    "arcpy.stpm.CreateSpaceTimeCubeMDRasterLayer(out_multidimensional_raster_layer, output_cube, 'Zeros')"
   ]
  },
  {
   "cell_type": "markdown",
   "metadata": {},
   "source": [
    "## Rendering .gif Using the Spacetime Cube\n",
    "\n",
    "Before running the following cell to work, you must complete the following steps:\n",
    "- Screenshot each frame of the Multidimensional Layer (Normals_Precipitation_MultiDIm_Layer) \n",
    "- Save all of those screenshots into a folder in your project directory named 'frames'\n"
   ]
  },
  {
   "cell_type": "code",
   "execution_count": null,
   "metadata": {},
   "outputs": [],
   "source": [
    "from PIL import Image\n",
    "import os\n",
    "\n",
    "# Directory containing the PNG files\n",
    "input_directory = r'C:\\Users\\jake1\\OneDrive\\Documents\\ArcGIS\\Projects\\PRISM\\frames'\n",
    "\n",
    "# List of PNG files in the directory\n",
    "png_files = [file for file in os.listdir(input_directory) if file.endswith(\".png\")]\n",
    "\n",
    "# Sort the list of PNG files (if needed)\n",
    "png_files.sort()\n",
    "\n",
    "# Create a list to store the images\n",
    "frames = []\n",
    "\n",
    "# Loop through the PNG files, open and append them to the frames list\n",
    "for png_file in png_files:\n",
    "    image = Image.open(os.path.join(input_directory, png_file))\n",
    "    frames.append(image)\n",
    "\n",
    "# Output file name for the animated GIF\n",
    "output_gif = 'normals.gif'\n",
    "\n",
    "# Save the frames as an animated GIF\n",
    "frames[0].save(output_gif, save_all=True, append_images=frames[1:], duration=500, loop=0)\n",
    "\n",
    "print(f\"Animated GIF saved as '{output_gif}'\")"
   ]
  }
 ],
 "metadata": {
  "kernelspec": {
   "display_name": "ArcGISPro",
   "language": "Python",
   "name": "python3"
  },
  "language_info": {
   "file_extension": ".py",
   "name": "python",
   "version": "3"
  }
 },
 "nbformat": 4,
 "nbformat_minor": 2
}
