{
 "cells": [
  {
   "cell_type": "markdown",
   "metadata": {},
   "source": [
    "## Lab 2 pt 1 - DEM to TIN\n",
    "\n",
    "**Notice:** Some of this code was written with help from ChatGPT. Esri's ArcPy documentation was another major source of information."
   ]
  },
  {
   "cell_type": "code",
   "execution_count": 2,
   "metadata": {},
   "outputs": [],
   "source": [
    "import requests\n",
    "import os\n",
    "import arcpy"
   ]
  },
  {
   "cell_type": "code",
   "execution_count": 4,
   "metadata": {},
   "outputs": [],
   "source": [
    "base_dir = r'C:\\Users\\jake1\\OneDrive\\Documents\\ArcGIS\\Projects\\Lab2_DEM_TIN'"
   ]
  },
  {
   "cell_type": "code",
   "execution_count": 5,
   "metadata": {},
   "outputs": [
    {
     "name": "stderr",
     "output_type": "stream",
     "text": [
      "C:\\Users\\jake1\\AppData\\Local\\ESRI\\conda\\envs\\arcgispro-py3-clone\\lib\\site-packages\\urllib3\\connectionpool.py:1043: InsecureRequestWarning: Unverified HTTPS request is being made to host 'resources.gisdata.mn.gov'. Adding certificate verification is strongly advised. See: https://urllib3.readthedocs.io/en/1.26.x/advanced-usage.html#ssl-warnings\n",
      "  warnings.warn(\n"
     ]
    }
   ],
   "source": [
    "#The provided code sends an HTTP GET request\n",
    "url = r'https://resources.gisdata.mn.gov/pub/data/elevation/lidar/examples/lidar_sample/las/4342-12-05.las'\n",
    "dnr_data = requests.post(url, verify=False, stream=True) #get request function with url\n",
    "data_url = base_dir + '\\dnr.las'\n",
    "\n",
    "# Create folder for data\n",
    "if not os.path.exists(base_dir):\n",
    "    os.mkdir(base_dir)\n",
    "# Save data to recently made folder\n",
    "with open(data_url, 'wb') as file:\n",
    "    file.write(dnr_data.content)"
   ]
  },
  {
   "cell_type": "code",
   "execution_count": 10,
   "metadata": {},
   "outputs": [
    {
     "data": {
      "text/html": [
       "<div class='gpresult'><h2>Messages</h2><div id='messages' data-messages='[\"Start Time: Thursday, November 2, 2023 9:32:01 PM\",\"Succeeded at Thursday, November 2, 2023 9:32:01 PM (Elapsed Time: 0.61 seconds)\"]' data-show='true'><div id = 'default' /></div></div>"
      ],
      "text/plain": [
       "<Result 'C:\\\\Users\\\\jake1\\\\OneDrive\\\\Documents\\\\ArcGIS\\\\Projects\\\\Lab2_DEM_TIN\\\\dnr.lasd'>"
      ]
     },
     "execution_count": 10,
     "metadata": {},
     "output_type": "execute_result"
    }
   ],
   "source": [
    "arcpy.management.CreateLasDataset(\n",
    "    input = data_url,\n",
    "    out_las_dataset=r\"C:\\Users\\jake1\\OneDrive\\Documents\\ArcGIS\\Projects\\Lab2_DEM_TIN\\dnr.lasd\",\n",
    "    folder_recursion=\"NO_RECURSION\",\n",
    "    in_surface_constraints=None,\n",
    "    spatial_reference='PROJCS[\"datum_D_North_American_1983_HARN_UTM_Zone_15N\",GEOGCS[\"GCS_datum_D_North_American_1983_HARN\",DATUM[\"D_unknown\",SPHEROID[\"GRS_1980\",6378137.0,298.257222101]],PRIMEM[\"Greenwich\",0.0],UNIT[\"Degree\",0.0174532925199433]],PROJECTION[\"Transverse_Mercator\"],PARAMETER[\"false_easting\",500000.0],PARAMETER[\"false_northing\",0.0],PARAMETER[\"central_meridian\",-93.0],PARAMETER[\"scale_factor\",0.9996],PARAMETER[\"latitude_of_origin\",0.0],UNIT[\"Meter\",1.0]],VERTCS[\"NAVD88 - Geoid03 (Meters)\",VDATUM[\"unknown\"],PARAMETER[\"Vertical_Shift\",0.0],PARAMETER[\"Direction\",1.0],UNIT[\"Meter\",1.0]]',\n",
    "    compute_stats=\"COMPUTE_STATS\",\n",
    "    relative_paths=\"ABSOLUTE_PATHS\",\n",
    "    create_las_prj=\"NO_FILES\",\n",
    "    extent=\"DEFAULT\",\n",
    "    boundary=None,\n",
    "    add_only_contained_files=\"INTERSECTED_FILES\"\n",
    ")"
   ]
  },
  {
   "cell_type": "code",
   "execution_count": 12,
   "metadata": {},
   "outputs": [
    {
     "data": {
      "text/html": [
       "<div class='gpresult'><h2>Messages</h2><div id='messages' data-messages='[\"Start Time: Thursday, November 2, 2023 9:38:07 PM\",\"Succeeded at Thursday, November 2, 2023 9:38:08 PM (Elapsed Time: 0.73 seconds)\"]' data-show='true'><div id = 'default' /></div></div>"
      ],
      "text/plain": [
       "<Result 'C:\\\\Users\\\\jake1\\\\OneDrive\\\\Documents\\\\ArcGIS\\\\Projects\\\\Lab2_DEM_TIN\\\\dnr_tin'>"
      ]
     },
     "execution_count": 12,
     "metadata": {},
     "output_type": "execute_result"
    }
   ],
   "source": [
    "import arcpy\n",
    "\n",
    "# Set the workspace to the location of your LAS dataset\n",
    "arcpy.env.workspace = base_dir\n",
    "\n",
    "# Define the input LAS dataset\n",
    "input_las_dataset = 'dnr.lasd'\n",
    "\n",
    "# Define the name for the output TIN dataset within the workspace\n",
    "output_tin_name = 'dnr_TIN'\n",
    "\n",
    "# Convert LAS dataset to TIN\n",
    "arcpy.ddd.LasDatasetToTin(input_las_dataset, output_tin_name, 'WINDOW_SIZE', 'MIN', 15, 5000000, 1, 'CLIP')"
   ]
  },
  {
   "cell_type": "code",
   "execution_count": 14,
   "metadata": {},
   "outputs": [
    {
     "data": {
      "text/html": [
       "<div class='gpresult'><h2>Messages</h2><div id='messages' data-messages='[\"Start Time: Thursday, November 2, 2023 10:02:29 PM\",\"Succeeded at Thursday, November 2, 2023 10:02:31 PM (Elapsed Time: 2.84 seconds)\"]' data-show='true'><div id = 'default' /></div></div>"
      ],
      "text/plain": [
       "<Result 'C:\\\\Users\\\\jake1\\\\OneDrive\\\\Documents\\\\ArcGIS\\\\Projects\\\\Lab2_DEM_TIN\\\\dnr_dem'>"
      ]
     },
     "execution_count": 14,
     "metadata": {},
     "output_type": "execute_result"
    }
   ],
   "source": [
    "# Define the input LAS dataset\n",
    "input_las_dataset = 'dnr.lasd'\n",
    "\n",
    "# Define the name for the output DEM\n",
    "output_dem_name = 'dnr_DEM'\n",
    "\n",
    "# Convert LAS dataset to DEM\n",
    "arcpy.conversion.LasDatasetToRaster(input_las_dataset, \n",
    "                output_dem_name, \n",
    "                'ELEVATION', \n",
    "                'BINNING AVERAGE LINEAR', \n",
    "                'FLOAT',\n",
    "                'CELLSIZE'\n",
    ")"
   ]
  },
  {
   "cell_type": "markdown",
   "metadata": {},
   "source": [
    "### Required Action in ArcGIS Pro Map\n",
    "Save 2 layouts (one of the DEM and another as the TIN) to complete these final steps."
   ]
  },
  {
   "cell_type": "code",
   "execution_count": 24,
   "metadata": {},
   "outputs": [],
   "source": [
    "# Create directory shortcuts \n",
    "map_dir = base_dir + '\\Lab2_DEM_TIN.aprx'\n",
    "TIN_dir = base_dir + '\\TIN.pdf'\n",
    "DEM_dir = base_dir + '\\DEM.pdf'\n",
    "# Defining our Arc GIS Pro Project as an object\n",
    "aprx = arcpy.mp.ArcGISProject(map_dir)"
   ]
  },
  {
   "cell_type": "code",
   "execution_count": 25,
   "metadata": {},
   "outputs": [
    {
     "data": {
      "text/plain": [
       "'C:\\\\Users\\\\jake1\\\\OneDrive\\\\Documents\\\\ArcGIS\\\\Projects\\\\Lab2_DEM_TIN\\\\TIN.pdf'"
      ]
     },
     "execution_count": 25,
     "metadata": {},
     "output_type": "execute_result"
    }
   ],
   "source": [
    "# Exporting TIN to pdf\n",
    "TIN_lyt = aprx.listLayouts()[1]\n",
    "TIN_lyt.exportToPDF(TIN_dir)\n",
    "print('Export successful!')"
   ]
  },
  {
   "cell_type": "code",
   "execution_count": 26,
   "metadata": {},
   "outputs": [
    {
     "data": {
      "text/plain": [
       "'C:\\\\Users\\\\jake1\\\\OneDrive\\\\Documents\\\\ArcGIS\\\\Projects\\\\Lab2_DEM_TIN\\\\DEM.pdf'"
      ]
     },
     "execution_count": 26,
     "metadata": {},
     "output_type": "execute_result"
    }
   ],
   "source": [
    "# Exporting DEM to pdf\n",
    "aprx = arcpy.mp.ArcGISProject(map_dir)\n",
    "DEM_lyt = aprx.listLayouts()[0]\n",
    "DEM_lyt.exportToPDF(DEM_dir)\n",
    "print('Export successful!')"
   ]
  }
 ],
 "metadata": {
  "kernelspec": {
   "display_name": "ArcGISPro",
   "language": "Python",
   "name": "python3"
  },
  "language_info": {
   "file_extension": ".py",
   "name": "python",
   "version": "3"
  }
 },
 "nbformat": 4,
 "nbformat_minor": 2
}
