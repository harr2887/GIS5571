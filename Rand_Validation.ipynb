{
 "cells": [
  {
   "cell_type": "code",
   "execution_count": 2,
   "metadata": {},
   "outputs": [],
   "source": [
    "import os\n",
    "import pandas as pd\n",
    "import pyproj"
   ]
  },
  {
   "cell_type": "code",
   "execution_count": 21,
   "metadata": {},
   "outputs": [
    {
     "name": "stdout",
     "output_type": "stream",
     "text": [
      "                X             Y  Score\n",
      "0   462412.023682  4.981638e+06    4.0\n",
      "1   460830.297119  5.001580e+06    4.5\n",
      "2   476856.109131  4.963022e+06    4.0\n",
      "3   481885.626282  4.977503e+06    4.0\n",
      "4   466213.096680  5.006919e+06    4.5\n",
      "5   483502.887329  4.971716e+06    4.0\n",
      "6   467891.851685  4.971253e+06    4.0\n",
      "7   444017.706482  4.983293e+06    4.0\n",
      "8   454621.213318  4.987196e+06    4.5\n",
      "9   447532.827087  4.976050e+06    4.0\n",
      "10  472274.984924  4.988104e+06    4.0\n",
      "11  455910.687927  4.995209e+06    4.5\n",
      "12  475076.765503  4.980743e+06    4.0\n",
      "13  477870.330872  4.994204e+06    4.0\n",
      "14  472660.974915  4.972778e+06    5.0\n"
     ]
    }
   ],
   "source": [
    "# Open random points CSV as a Pandas DF\n",
    "base_dir = r\"C:\\Users\\jake1\\OneDrive\\Documents\\ArcGIS\\Projects\\GIS_5571_Project\"\n",
    "csv_file_name = 'rand_suitability.csv'\n",
    "csv_file_path = os.path.join(base_dir, csv_file_name)\n",
    "\n",
    "# Read the CSV file into a DataFrame with specific settings\n",
    "df = pd.read_csv(csv_file_path, header = 0, names=['X', 'Y', 'Score'])\n",
    "\n",
    "# Display the DataFrame\n",
    "print(df)\n"
   ]
  },
  {
   "cell_type": "code",
   "execution_count": 22,
   "metadata": {},
   "outputs": [
    {
     "name": "stdout",
     "output_type": "stream",
     "text": [
      "                X             Y  Score   Latitude  Longitude\n",
      "0   462412.023682  4.981638e+06    4.0  44.987188 -93.476806\n",
      "1   460830.297119  5.001580e+06    4.5  45.166614 -93.498428\n",
      "2   476856.109131  4.963022e+06    4.0  44.820229 -93.292733\n",
      "3   481885.626282  4.977503e+06    4.0  44.950732 -93.229637\n",
      "4   466213.096680  5.006919e+06    4.5  45.214946 -93.430297\n",
      "5   483502.887329  4.971716e+06    4.0  44.898681 -93.208946\n",
      "6   467891.851685  4.971253e+06    4.0  44.893980 -93.406636\n",
      "7   444017.706482  4.983293e+06    4.0  45.000872 -93.710308\n",
      "8   454621.213318  4.987196e+06    4.5  45.036761 -93.576130\n",
      "9   447532.827087  4.976050e+06    4.0  44.935949 -93.664957\n",
      "10  472274.984924  4.988104e+06    4.0  45.045850 -93.352053\n",
      "11  455910.687927  4.995209e+06    4.5  45.108973 -93.560464\n",
      "12  475076.765503  4.980743e+06    4.0  44.979692 -93.316112\n",
      "13  477870.330872  4.994204e+06    4.0  45.100959 -93.281273\n",
      "14  472660.974915  4.972778e+06    5.0  44.907900 -93.346320\n"
     ]
    }
   ],
   "source": [
    "# Reproject to GPS coordinates\n",
    "\n",
    "# Define the input coordinate system (UTM Zone 15 in this example)\n",
    "input_crs = pyproj.CRS.from_epsg(32615)\n",
    "\n",
    "# Define the output coordinate system (WGS84 for GPS coordinates)\n",
    "output_crs = pyproj.CRS.from_epsg(4326)\n",
    "\n",
    "# Create a transformer to perform the coordinate conversion\n",
    "transformer = pyproj.Transformer.from_crs(input_crs, output_crs, always_xy=True)\n",
    "\n",
    "# Function to apply coordinate transformation to each row in the DataFrame\n",
    "def transform_coordinates(row):\n",
    "    x, y = row['X'], row['Y']\n",
    "    lon, lat = transformer.transform(x, y)\n",
    "    return pd.Series({'Latitude': lat, 'Longitude': lon})\n",
    "\n",
    "# Apply the transformation function to each row in the DataFrame\n",
    "df[['Latitude', 'Longitude']] = df.apply(transform_coordinates, axis=1)\n",
    "\n",
    "# Display the transformed DataFrame\n",
    "print(df)"
   ]
  },
  {
   "cell_type": "code",
   "execution_count": 23,
   "metadata": {},
   "outputs": [
    {
     "name": "stdout",
     "output_type": "stream",
     "text": [
      "0     44.987188229393915, -93.47680594016828\n",
      "1      45.16661354685613, -93.49842765868615\n",
      "2      44.82022885999228, -93.29273324429644\n",
      "3      44.95073212981405, -93.22963650990752\n",
      "4      45.21494613796155, -93.43029650569096\n",
      "5      44.89868091665405, -93.20894566867919\n",
      "6     44.893979709955936, -93.40663550132076\n",
      "7      45.00087191691746, -93.71030806012966\n",
      "8      45.03676122764181, -93.57612968442913\n",
      "9      44.935948950733774, -93.6649573442522\n",
      "10     45.04585031911932, -93.35205290177831\n",
      "11    45.108972866276915, -93.56046387279397\n",
      "12    44.979692228776116, -93.31611166827568\n",
      "13      45.10095911419252, -93.2812732606209\n",
      "14     44.90790028056747, -93.34632022845997\n",
      "Name: GPS, dtype: object\n"
     ]
    }
   ],
   "source": [
    "# Create a new column formatted for UMN solar app GPS input\n",
    "df['GPS'] = df['Latitude'].astype(str) + ', ' + df['Longitude'].astype(str)\n",
    "\n",
    "print(df['GPS'])"
   ]
  },
  {
   "cell_type": "code",
   "execution_count": 43,
   "metadata": {},
   "outputs": [
    {
     "name": "stdout",
     "output_type": "stream",
     "text": [
      "0     4.24\n",
      "1     4.04\n",
      "2     4.28\n",
      "3     4.00\n",
      "4     4.00\n",
      "5     4.12\n",
      "6     2.84\n",
      "7     3.44\n",
      "8     4.20\n",
      "9     4.60\n",
      "10    3.68\n",
      "11    3.44\n",
      "12    4.00\n",
      "13    1.84\n",
      "14    4.28\n",
      "Name: True_Score, dtype: float64\n"
     ]
    }
   ],
   "source": [
    "# Adding True scores to the df\n",
    "\n",
    "# List of scores from UMN Solar Tool\n",
    "raw_umn_scores = [81, 76, 82, 75, 75, 78, 46, 61, 80, 90, 67, 61, 75, 21, 82]\n",
    "umn_scores_1 = []\n",
    "\n",
    "for loc in range(len(raw_umn_scores)):\n",
    "    score = (0.04 * raw_umn_scores[loc]) + 1\n",
    "    umn_scores_1.append(score)\n",
    "df['True_Score'] = umn_scores_1\n",
    "\n",
    "print(df['True_Score'])"
   ]
  },
  {
   "cell_type": "code",
   "execution_count": 42,
   "metadata": {},
   "outputs": [
    {
     "name": "stdout",
     "output_type": "stream",
     "text": [
      "0       5.660377\n",
      "1      11.386139\n",
      "2       6.542056\n",
      "3       0.000000\n",
      "4      12.500000\n",
      "5       2.912621\n",
      "6      40.845070\n",
      "7      16.279070\n",
      "8       7.142857\n",
      "9      13.043478\n",
      "10      8.695652\n",
      "11     30.813953\n",
      "12      0.000000\n",
      "13    117.391304\n",
      "14     16.822430\n",
      "Name: Percentage_Error, dtype: float64\n"
     ]
    }
   ],
   "source": [
    "# Calculate accuracy of est score vs UMN Solar Tool score\n",
    "df['Percentage_Error'] = abs((df['True_Score'] - df['Score']) / df['True_Score']) * 100\n",
    "\n",
    "print(df['Percentage_Error'])"
   ]
  },
  {
   "cell_type": "code",
   "execution_count": 48,
   "metadata": {},
   "outputs": [
    {
     "name": "stdout",
     "output_type": "stream",
     "text": [
      "0     0.943396\n",
      "1     0.897778\n",
      "2     0.934579\n",
      "3     1.000000\n",
      "4     0.888889\n",
      "5     0.970874\n",
      "6     0.710000\n",
      "7     0.860000\n",
      "8     0.933333\n",
      "9     0.869565\n",
      "10    0.920000\n",
      "11    0.764444\n",
      "12    1.000000\n",
      "13    0.460000\n",
      "14    0.856000\n",
      "Name: Accuracy, dtype: float64\n"
     ]
    }
   ],
   "source": [
    "df['Accuracy'] = df.apply(lambda row: row['Score'] / row['True_Score'] if row['Score'] < row['True_Score'] else row['True_Score'] / row['Score'], axis=1)\n",
    "\n",
    "print(df['Accuracy'])"
   ]
  },
  {
   "cell_type": "code",
   "execution_count": 49,
   "metadata": {},
   "outputs": [
    {
     "name": "stdout",
     "output_type": "stream",
     "text": [
      "DataFrame has been saved to C:\\Users\\jake1\\OneDrive\\Documents\\ArcGIS\\Projects\\GIS_5571_Project\\suitability_results.csv\n"
     ]
    }
   ],
   "source": [
    "# Output DataFrame to CSV file\n",
    "csv_file_name = 'suitability_results.csv'\n",
    "csv_file_path = os.path.join(base_dir, csv_file_name)\n",
    "df.to_csv(csv_file_path, index = False)\n",
    "\n",
    "print(f'DataFrame has been saved to {csv_file_path}')"
   ]
  }
 ],
 "metadata": {
  "kernelspec": {
   "display_name": "arcpy",
   "language": "python",
   "name": "python3"
  },
  "language_info": {
   "codemirror_mode": {
    "name": "ipython",
    "version": 3
   },
   "file_extension": ".py",
   "mimetype": "text/x-python",
   "name": "python",
   "nbconvert_exporter": "python",
   "pygments_lexer": "ipython3",
   "version": "3.10.12"
  }
 },
 "nbformat": 4,
 "nbformat_minor": 2
}
